{
  "nbformat": 4,
  "nbformat_minor": 0,
  "metadata": {
    "colab": {
      "provenance": []
    },
    "kernelspec": {
      "name": "python3",
      "display_name": "Python 3"
    },
    "language_info": {
      "name": "python"
    }
  },
  "cells": [
    {
      "cell_type": "code",
      "execution_count": 1,
      "metadata": {
        "colab": {
          "base_uri": "https://localhost:8080/",
          "height": 110
        },
        "id": "sbBzAsG4hIh1",
        "outputId": "38480f8b-85a1-4ad6-f84a-031980d1e8f6"
      },
      "outputs": [
        {
          "output_type": "error",
          "ename": "IndentationError",
          "evalue": "expected an indented block after 'if' statement on line 32 (ipython-input-1626918289.py, line 33)",
          "traceback": [
            "\u001b[0;36m  File \u001b[0;32m\"/tmp/ipython-input-1626918289.py\"\u001b[0;36m, line \u001b[0;32m33\u001b[0m\n\u001b[0;31m    return\u001b[0m\n\u001b[0m    ^\u001b[0m\n\u001b[0;31mIndentationError\u001b[0m\u001b[0;31m:\u001b[0m expected an indented block after 'if' statement on line 32\n"
          ]
        }
      ],
      "source": [
        "# Install dependencies\n",
        "!pip install discord.py==2.3.2 nest_asyncio openai\n",
        "import discord\n",
        "import nest_asyncio\n",
        "import asyncio\n",
        "import openai\n",
        "# Allow Colab event loop nesting\n",
        "nest_asyncio.apply()\n",
        "# === CONFIG ===\n",
        "DISCORD_TOKEN = \"YOUR_DISCORD_BOT_TOKEN\" # <-- Replace with your Discord token\n",
        "OPENAI_API_KEY = \"YOUR_OPENAI_API_KEY\" # <-- Replace with your OpenAI API key\n",
        "PREFIX = \"!\"\n",
        "# Set OpenAI API key\n",
        "openai.api_key = OPENAI_API_KEY\n",
        "# Create Discord bot client\n",
        "intents = discord.Intents.default()\n",
        "intents.message_content = True\n",
        "client = discord.Client(intents=intents)\n",
        "async def ask_chatgpt(prompt):\n",
        " response = openai.ChatCompletion.create(\n",
        " model=\"gpt-3.5-turbo\",\n",
        " messages=[{\"role\": \"user\", \"content\": prompt}],\n",
        " max_tokens=500,\n",
        " temperature=0.7\n",
        " )\n",
        " return response.choices[0].message[\"content\"]\n",
        "@client.event\n",
        "async def on_ready():\n",
        " print(f\"■ Logged in as {client.user}\")\n",
        "@client.event\n",
        "async def on_message(message):\n",
        " if message.author == client.user:\n",
        " return\n",
        " if message.content.startswith(PREFIX):\n",
        " prompt = message.content[len(PREFIX):].strip()\n",
        " if prompt:\n",
        " await message.channel.send(\"■ Thinking...\")\n",
        " reply = await ask_chatgpt(prompt)\n",
        " await message.channel.send(reply)\n",
        "async def start_bot():\n",
        " await client.start(DISCORD_TOKEN)\n",
        "try:\n",
        " asyncio.get_event_loop().run_until_complete(start_bot())\n",
        "except KeyboardInterrupt:\n",
        " pass"
      ]
    }
  ]
}